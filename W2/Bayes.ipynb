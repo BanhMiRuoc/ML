{
  "cells": [
    {
      "cell_type": "code",
      "execution_count": 3,
      "metadata": {
        "id": "HZM3pGk-HhkZ"
      },
      "outputs": [],
      "source": [
        "import numpy as np\n",
        "from sklearn.preprocessing import LabelEncoder\n",
        "from sklearn.naive_bayes import MultinomialNB\n",
        "from sklearn.naive_bayes import GaussianNB, CategoricalNB,BernoulliNB,MultinomialNB\n",
        "from sklearn.preprocessing import StandardScaler\n",
        "from sklearn.metrics import accuracy_score"
      ]
    },
    {
      "cell_type": "markdown",
      "metadata": {},
      "source": [
        "**Fit_transform()**\n",
        "dùng để xử lý dữ liệu đầu vào. Kết hợp hai bước là fit(tinh toán các tham số dựa trên dữ liệu đầu vào) và transform (chuyển đổi dựa trên các tham số đó)\n",
        "    fit(): \n",
        "        tính giá trị trung bình, độ lệch chuẩn của từng đặc trưng;\n",
        "        tính giá trị min max của từng đặc trưng;\n",
        "        tính phần chính từ dữ liệu\n",
        "    transform(): \n",
        "        chuẩn hoá dữ liệu cho mỗi đặc trưng có mean = 0 và standard = 1;\n",
        "        đưa tất cả các giá trị của đặc trưng vào khoảng giá trị [0, 1];\n",
        "        biến đổi dữ liệu dựa trên các phần chính"
      ]
    },
    {
      "cell_type": "code",
      "execution_count": 4,
      "metadata": {},
      "outputs": [
        {
          "name": "stdout",
          "output_type": "stream",
          "text": [
            "Dữ liệu gốc:\n",
            " [[1 2]\n",
            " [2 3]\n",
            " [3 4]\n",
            " [4 5]\n",
            " [5 6]]\n",
            "\n",
            "Dữ liệu đã chuẩn hóa:\n",
            " [[-1.41421356 -1.41421356]\n",
            " [-0.70710678 -0.70710678]\n",
            " [ 0.          0.        ]\n",
            " [ 0.70710678  0.70710678]\n",
            " [ 1.41421356  1.41421356]]\n"
          ]
        }
      ],
      "source": [
        "X = np.array([[1, 2], [2, 3], [3, 4], [4, 5], [5, 6]])\n",
        "\n",
        "scaler = StandardScaler()\n",
        "\n",
        "X_scaled = scaler.fit_transform(X)\n",
        "\n",
        "print(\"Dữ liệu gốc:\\n\", X)\n",
        "print(\"\\nDữ liệu đã chuẩn hóa:\\n\", X_scaled)"
      ]
    },
    {
      "cell_type": "code",
      "execution_count": 5,
      "metadata": {
        "id": "S7h976SM3SzC"
      },
      "outputs": [],
      "source": [
        "Outlook = ['Sunny', 'Sunny', 'Overcast', 'Rainy', 'Rainy',\n",
        "            'Rainy', 'Overcast', 'Sunny', 'Sunny',\n",
        "            'Rainy', 'Sunny', 'Overcast', 'Overcast', 'Rainy']\n",
        "\n",
        "Temp = ['Hot', 'Hot', 'Hot', 'Mild', 'Cool', 'Cool', 'Cool',\n",
        "        'Mild', 'Cool', 'Mild', 'Mild', 'Mild', 'Hot', 'Mild']\n",
        "\n",
        "Humidity = ['High', 'High', 'High', 'High', 'Normal', 'Normal', 'Normal',\n",
        "            'High', 'Normal', 'Normal', 'Normal', 'High', 'Normal', 'High']\n",
        "\n",
        "Windy = [False, True, False, False, False, True, True,\n",
        "         False, False, False, True, True, False, True]\n",
        "\n",
        "Play = ['No', 'No', 'Yes', 'Yes', 'Yes', 'No', 'Yes',\n",
        "        'No', 'Yes', 'Yes', 'Yes', 'Yes', 'Yes', 'No']"
      ]
    },
    {
      "cell_type": "code",
      "execution_count": 6,
      "metadata": {
        "id": "dkf8QJWKHnnF"
      },
      "outputs": [],
      "source": [
        "LE = LabelEncoder()\n",
        "\n",
        "Outlook_Encode = LE.fit_transform(Outlook)\n",
        "Temp_Encode = LE.fit_transform(Temp)\n",
        "Humidity_Encode = LE.fit_transform(Humidity)\n",
        "Windy_Encode = LE.fit_transform(Windy)\n",
        "Play_Encode = LE.fit_transform(Play)\n",
        "\n",
        "Features = np.array([Outlook_Encode, Temp_Encode, Humidity_Encode, Windy_Encode])\n",
        "\n",
        "Features = Features.T"
      ]
    },
    {
      "cell_type": "code",
      "execution_count": 7,
      "metadata": {
        "colab": {
          "base_uri": "https://localhost:8080/"
        },
        "id": "VSAHfPKL7HQg",
        "outputId": "8587f2fb-e160-4de7-e4d2-ffb81c2cabd7"
      },
      "outputs": [
        {
          "name": "stdout",
          "output_type": "stream",
          "text": [
            "GaussianNB\n",
            "Predice result:  [0 0 1 1 1 1 1 0 1 1 1 1 1 0]\n",
            "Original result: [0 0 1 1 1 0 1 0 1 1 1 1 1 0]\n",
            "Accurancy score: 92.86% \n"
          ]
        }
      ],
      "source": [
        "print(\"GaussianNB\")\n",
        "\n",
        "model_GNB = GaussianNB()\n",
        "\n",
        "model_GNB.fit(Features, Play_Encode)\n",
        "\n",
        "predict_GNB = model_GNB.predict(Features)\n",
        "\n",
        "print(\"Predice result: \", predict_GNB)\n",
        "print(\"Original result:\", Play_Encode)\n",
        "print(\"Accurancy score: %.2f\" %(accuracy_score(predict_GNB, Play_Encode) * 100), end=\"% \\n\")\n"
      ]
    },
    {
      "cell_type": "code",
      "execution_count": 8,
      "metadata": {
        "id": "QZTa2dC3OZ1C"
      },
      "outputs": [
        {
          "name": "stdout",
          "output_type": "stream",
          "text": [
            "CategoricalNB\n",
            "Predict result (CategoricalNB): [0 0 1 1 1 1 1 0 1 1 1 1 1 0]\n",
            "Accurancy score (CategoricalNB): 92.86% \n"
          ]
        }
      ],
      "source": [
        "# Categorical Naive Bayes\n",
        "print(\"CategoricalNB\")\n",
        "model_CNB = CategoricalNB()\n",
        "model_CNB.fit(Features, Play_Encode)\n",
        "predict_CNB = model_CNB.predict(Features)\n",
        "print(\"Predict result (CategoricalNB):\", predict_CNB)\n",
        "print(\"Accurancy score (CategoricalNB): %.2f\" % (accuracy_score(predict_CNB, Play_Encode) * 100), end=\"% \\n\")"
      ]
    },
    {
      "cell_type": "code",
      "execution_count": 9,
      "metadata": {},
      "outputs": [
        {
          "name": "stdout",
          "output_type": "stream",
          "text": [
            "BernoulliNB\n",
            "Predict result (BernoulliNB): [0 0 1 0 1 1 1 0 1 1 1 1 1 0]\n",
            "Accurancy score (BernoulliNB): 85.71% \n"
          ]
        }
      ],
      "source": [
        "# Bernoulli Naive Bayes\n",
        "print(\"BernoulliNB\")\n",
        "model_BNB = BernoulliNB()\n",
        "model_BNB.fit(Features, Play_Encode)\n",
        "predict_BNB = model_BNB.predict(Features)\n",
        "print(\"Predict result (BernoulliNB):\", predict_BNB)\n",
        "print(\"Accurancy score (BernoulliNB): %.2f\" % (accuracy_score(predict_BNB, Play_Encode) * 100), end=\"% \\n\")\n"
      ]
    },
    {
      "cell_type": "code",
      "execution_count": 10,
      "metadata": {},
      "outputs": [
        {
          "name": "stdout",
          "output_type": "stream",
          "text": [
            "MultinomialNB\n",
            "Predict result (MultinomialNB): [0 0 1 1 1 1 1 1 1 1 1 1 1 1]\n",
            "Accurancy score (MultinomialNB): 78.57% \n"
          ]
        }
      ],
      "source": [
        "# Multinomial Naive Bayes\n",
        "print(\"MultinomialNB\")\n",
        "model_MNB = MultinomialNB()\n",
        "model_MNB.fit(Features, Play_Encode)\n",
        "predict_MNB = model_MNB.predict(Features)\n",
        "print(\"Predict result (MultinomialNB):\", predict_MNB)\n",
        "print(\"Accurancy score (MultinomialNB): %.2f\" % (accuracy_score(predict_MNB, Play_Encode) * 100), end=\"% \\n\")"
      ]
    }
  ],
  "metadata": {
    "colab": {
      "provenance": []
    },
    "kernelspec": {
      "display_name": "Python 3",
      "name": "python3"
    },
    "language_info": {
      "codemirror_mode": {
        "name": "ipython",
        "version": 3
      },
      "file_extension": ".py",
      "mimetype": "text/x-python",
      "name": "python",
      "nbconvert_exporter": "python",
      "pygments_lexer": "ipython3",
      "version": "3.12.3"
    }
  },
  "nbformat": 4,
  "nbformat_minor": 0
}
