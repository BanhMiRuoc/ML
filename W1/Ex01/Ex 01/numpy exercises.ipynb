{
 "cells": [
  {
   "cell_type": "code",
   "execution_count": 1,
   "metadata": {},
   "outputs": [],
   "source": [
    "import numpy as np "
   ]
  },
  {
   "cell_type": "code",
   "execution_count": 2,
   "metadata": {},
   "outputs": [
    {
     "data": {
      "text/plain": [
       "\"A. Create arrays \\ncreate the following arrays\\n1) one dimension A : [1,4,5,6]\\n2) two dimension: (2 rows, 4 columns )  \\n3) two dimension: an array of 3 rows of the array in (1)\\n4) 3-dimension array with shape (2,3,4)\\n5) 1-dim array of size 10 and all values are 1 \\n6) 2-dim array(2,3) and cells' values are real numbers in [5,19]\\n7) 2-dim array(2,3) and values are integers of [10,20] \\n\""
      ]
     },
     "execution_count": 2,
     "metadata": {},
     "output_type": "execute_result"
    }
   ],
   "source": [
    "'''A. Create arrays \n",
    "create the following arrays\n",
    "1) one dimension A : [1,4,5,6]\n",
    "2) two dimension: (2 rows, 4 columns )  \n",
    "3) two dimension: an array of 3 rows of the array in (1)\n",
    "4) 3-dimension array with shape (2,3,4)\n",
    "5) 1-dim array of size 10 and all values are 1 \n",
    "6) 2-dim array(2,3) and cells' values are real numbers in [5,19]\n",
    "7) 2-dim array(2,3) and values are integers of [10,20] \n",
    "'''"
   ]
  },
  {
   "cell_type": "code",
   "execution_count": null,
   "metadata": {},
   "outputs": [],
   "source": []
  },
  {
   "cell_type": "code",
   "execution_count": null,
   "metadata": {},
   "outputs": [],
   "source": [
    "'''\n",
    "B. shape and reshape\n",
    "1) create a 2-dim array and show its shape: call it A\n",
    "- get row number of A\n",
    "- get col number of A\n",
    "2) create a 3-dim array and show its shape: call it B\n",
    "3) convert A to 1-dim array\n",
    "4) convert A to 2-dim array with k rows (choose a suitable k for shape of A)\n",
    "5) create an 1-dim array and convert it to 2-dim array with shape(m,n)\n",
    "'''"
   ]
  },
  {
   "cell_type": "code",
   "execution_count": 3,
   "metadata": {},
   "outputs": [
    {
     "data": {
      "text/plain": [
       "'\\nC. Indexing and Slicing for selecting elements or sub-array \\n1) create an 1-dim array [1 2 .. 100] \\n- get sub-array containing 20 first elements\\n- get sub-array containing 20 last elements\\n- get sub-array containing elements of index m to n (note: m, n get values from users)\\n2) create an matrix A like\\n[ 1 2 3 4 5\\n  6 7 8 9 10\\n]\\n- get B, C are sub-matrice of A such that:\\na) B = \\n[ 1 2 3 4\\n  6 7 8 9\\n] \\nC = \\n[ 5\\n  10\\n]\\nb) B = \\n[ 2 3\\n  7 8  \\n]\\n'"
      ]
     },
     "execution_count": 3,
     "metadata": {},
     "output_type": "execute_result"
    }
   ],
   "source": [
    "'''\n",
    "C. Indexing and Slicing for selecting elements or sub-array \n",
    "1) create an 1-dim array [1 2 .. 100] \n",
    "- get sub-array containing 20 first elements\n",
    "- get sub-array containing 20 last elements\n",
    "- get sub-array containing elements of index m to n (note: m, n get values from users)\n",
    "2) create an matrix A like\n",
    "[ 1 2 3 4 5\n",
    "  6 7 8 9 10\n",
    "]\n",
    "- get B, C are sub-matrice of A such that:\n",
    "a) B = \n",
    "[ 1 2 3 4\n",
    "  6 7 8 9\n",
    "] \n",
    "C = \n",
    "[ 5\n",
    "  10\n",
    "]\n",
    "b) B = \n",
    "[ 2 3\n",
    "  7 8  \n",
    "]\n",
    "'''\n"
   ]
  },
  {
   "cell_type": "code",
   "execution_count": 4,
   "metadata": {},
   "outputs": [
    {
     "data": {
      "text/plain": [
       "'\\nD. Operation on multiple matrices\\nCreate two matrices \\na = [ 1 1 1 1\\n      1 2 3 4 ]\\nb = [ 2 2 2 2\\n      1 2 3 4 ]\\n1) multiply a and b\\n2) dot a and b.T\\n3) concatenate a and b by rows\\nc= [  1 1 1 1\\n      1 2 3 4 \\n      2 2 2 2\\n      1 2 3 4 ]\\n\\n4) concatenate a and b by columns\\nc= [  1 1 1 1 2 2 2 2\\n      1 2 3 4 1 2 3 4 ]\\n5) concatenate a with the last column of b\\n'"
      ]
     },
     "execution_count": 4,
     "metadata": {},
     "output_type": "execute_result"
    }
   ],
   "source": [
    "'''\n",
    "D. Operation on multiple matrices\n",
    "Create two matrices \n",
    "a = [ 1 1 1 1\n",
    "      1 2 3 4 ]\n",
    "b = [ 2 2 2 2\n",
    "      1 2 3 4 ]\n",
    "1) multiply a and b\n",
    "2) dot a and b.T\n",
    "3) concatenate a and b by rows\n",
    "c= [  1 1 1 1\n",
    "      1 2 3 4 \n",
    "      2 2 2 2\n",
    "      1 2 3 4 ]\n",
    "\n",
    "4) concatenate a and b by columns\n",
    "c= [  1 1 1 1 2 2 2 2\n",
    "      1 2 3 4 1 2 3 4 ]\n",
    "5) concatenate a with the last column of b\n",
    "'''\n"
   ]
  },
  {
   "cell_type": "code",
   "execution_count": 5,
   "metadata": {},
   "outputs": [
    {
     "data": {
      "text/plain": [
       "'\\nE. Operation with condition \\n1) given an 1-dim array A = [1 2 3 5 7 4]\\n- remove all odd numbers in A\\n- get array B by removing elements so that their indexs of even numbers \\n2) given two 1-dim arrays, \\n- get the intersection of them\\n- get the union of them \\n'"
      ]
     },
     "execution_count": 5,
     "metadata": {},
     "output_type": "execute_result"
    }
   ],
   "source": [
    "'''\n",
    "E. Operation with condition \n",
    "1) given an 1-dim array A = [1 2 3 5 7 4]\n",
    "- remove all odd numbers in A\n",
    "- get array B by removing elements so that their indexs of even numbers \n",
    "2) given two 1-dim arrays, \n",
    "- get the intersection of them\n",
    "- get the union of them \n",
    "'''\n"
   ]
  },
  {
   "cell_type": "code",
   "execution_count": 31,
   "metadata": {},
   "outputs": [
    {
     "name": "stdout",
     "output_type": "stream",
     "text": [
      "[1, 3, 5, 7]\n"
     ]
    }
   ],
   "source": [
    "a = np.array([1,2,3,5,7,4])\n",
    "b = [x for x in a if x%2==1]\n",
    "print(b)"
   ]
  },
  {
   "cell_type": "code",
   "execution_count": null,
   "metadata": {},
   "outputs": [],
   "source": []
  }
 ],
 "metadata": {
  "kernelspec": {
   "display_name": "Python 3",
   "language": "python",
   "name": "python3"
  },
  "language_info": {
   "codemirror_mode": {
    "name": "ipython",
    "version": 3
   },
   "file_extension": ".py",
   "mimetype": "text/x-python",
   "name": "python",
   "nbconvert_exporter": "python",
   "pygments_lexer": "ipython3",
   "version": "3.7.5"
  }
 },
 "nbformat": 4,
 "nbformat_minor": 2
}
