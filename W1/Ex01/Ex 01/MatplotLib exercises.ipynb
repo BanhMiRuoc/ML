{
 "cells": [
  {
   "cell_type": "code",
   "execution_count": null,
   "metadata": {},
   "outputs": [],
   "source": [
    "''' các loại hàm cần thực hiện\n",
    "1) vẽ điểm\n",
    "2) vẽ đường\n",
    "3) biểu đồ bar \n",
    "4) biểu đồ histogram \n",
    "5) vẽ nhiều đường trên cùng một đồ thị \n",
    "'''"
   ]
  },
  {
   "cell_type": "code",
   "execution_count": null,
   "metadata": {},
   "outputs": [],
   "source": [
    "#1. Khởi tạo ngẫu nhiên giá trị integer cho các điểm 2 chiều A(x,y) và vẽ các điểm này \n",
    "# trên không gian toạ độ 2 chiều \n"
   ]
  },
  {
   "cell_type": "code",
   "execution_count": null,
   "metadata": {},
   "outputs": [],
   "source": [
    "#1b. làm bài 1 với các bổ sung\n",
    "# - đặt tên cho trục hoành và trục tung\n",
    "# - đặt scale cho trục hoành và trục tung \n",
    "# - màu cho điểm vẽ "
   ]
  },
  {
   "cell_type": "code",
   "execution_count": null,
   "metadata": {},
   "outputs": [],
   "source": [
    "#2. Vẽ các đường đồ thị sau\n",
    "# - các đường gấp khúc theo danh sách n điểm ngẫu nhiên A_i(x_i,y_i)\n",
    "# y = ax^2 + bx + c với a, b, c là các giá trị được đưa vào "
   ]
  },
  {
   "cell_type": "code",
   "execution_count": null,
   "metadata": {},
   "outputs": [],
   "source": [
    "#2b, làm bài 2 và bổ sung các thuộc tính sau:\n",
    "# - màu của đồ thị\n",
    "# - vẽ các đồ thị trên cùng một hàng "
   ]
  },
  {
   "cell_type": "code",
   "execution_count": null,
   "metadata": {},
   "outputs": [],
   "source": [
    "#3. cho một mảng gồm n chữ cái, được sinh ngẫu nhiên\n",
    "# hãy đếm frequency của các chữ cái\n",
    "# vẽ đồ thị bar cho các chữ cái và tần suất tương ứng "
   ]
  },
  {
   "cell_type": "code",
   "execution_count": null,
   "metadata": {},
   "outputs": [],
   "source": [
    "#4. Sinh mảng dữ liệu số nguyên trong khoảng [m,n] theo phân bố Gaussian \n",
    "# vẽ đồ thị histogram các giá trị này "
   ]
  },
  {
   "cell_type": "code",
   "execution_count": null,
   "metadata": {},
   "outputs": [],
   "source": [
    "#5. Vẽ đồ thị của hàm số y = 2x + 3y\n",
    "# trên không gian 3 chiều "
   ]
  }
 ],
 "metadata": {
  "kernelspec": {
   "display_name": "Python 3",
   "language": "python",
   "name": "python3"
  },
  "language_info": {
   "codemirror_mode": {
    "name": "ipython",
    "version": 3
   },
   "file_extension": ".py",
   "mimetype": "text/x-python",
   "name": "python",
   "nbconvert_exporter": "python",
   "pygments_lexer": "ipython3",
   "version": "3.7.5"
  }
 },
 "nbformat": 4,
 "nbformat_minor": 2
}
