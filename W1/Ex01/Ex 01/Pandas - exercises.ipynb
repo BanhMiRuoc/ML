{
 "cells": [
  {
   "cell_type": "markdown",
   "metadata": {},
   "source": [
    "Mở một file trên cơ sở dữ liệu UCI và khảo sát file dữ liệu này.\n",
    "1) mở file, ví dụ file:\n",
    "https://archive.ics.uci.edu/ml/datasets/Diabetes\n",
    "- liệt kê một số dòng dữ liệu ban đầu\n",
    "2) tìm hiểu thông tin về data này:\n",
    "- tên các attributes\n",
    "- kiểu dữ liệu \n",
    "- số lượng cột (attribute)\n",
    "- số lượng dòng (instance)\n",
    "3) lọc dữ liệu theo tiêu chuẩn:\n",
    "- lấy tất cả các cột dữ liệu có kiểu số (ko phải kiểu categorial)\n",
    "- lấy các dòng dữ liệu từ dòng thứ m tới dòng thứ n \n",
    "- lọc các dòng dữ liệu và các cột dữ liệu theo tiêu chí tự đặt ra \n",
    "4) tìm hiểu xem có giá trị dữ liệu nào bị NAN (null) hay không:\n",
    "- bỏ tất cả các cột có giá trị NAN\n",
    "- bỏ tất cả các dòng có giá trị NAN\n",
    "5) Vẽ đồ thị:\n",
    "- một số cột dữ liệu theo tần suất của các giá trị của cột đó (đồ thị dạng bar)\n",
    "- một số cặp attribute theo dạng đồ thị scatter \n",
    "6) Đổi các giá trị dạng categorical/nomial sang dạng số (numerical)\n",
    "- sử dụng pandas.Factorize\n",
    "- sử dụng LabelEncoder\n",
    "- sử pandas.dummies"
   ]
  }
 ],
 "metadata": {
  "kernelspec": {
   "display_name": "Python 3",
   "language": "python",
   "name": "python3"
  },
  "language_info": {
   "codemirror_mode": {
    "name": "ipython",
    "version": 3
   },
   "file_extension": ".py",
   "mimetype": "text/x-python",
   "name": "python",
   "nbconvert_exporter": "python",
   "pygments_lexer": "ipython3",
   "version": "3.7.5"
  }
 },
 "nbformat": 4,
 "nbformat_minor": 2
}
